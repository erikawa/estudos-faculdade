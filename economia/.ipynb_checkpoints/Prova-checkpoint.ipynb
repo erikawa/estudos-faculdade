{
 "cells": [
  {
   "cell_type": "markdown",
   "metadata": {},
   "source": [
    "# Módulo 1\n",
    "\n",
    "1. A gerência escolherá apenas um dos projetos, ficando somente com aquele que apresentar o maior Valor Presente Líquido (VPL) para uma taxa de 10% ao ano.  \n",
    "R.: 100.000,00\n",
    "\n",
    "2. A análise econômico-financeira de um projeto empresarial determina se ele gerará riqueza ou destruirá valor para os donos da empresa. O método de análise que utiliza a TIR (Taxa Interna de Retorno) do projeto como critério de decisão foi muito utilizado pelos executivos nas décadas passadas. Porém, de uns anos para cá, parece haver uma predileção pelo método VPL (Valor Presente Líquido) de análise.  \n",
    "R.: supõe que todos os fluxos de caixa positivos são reinvestidos à taxa interna de retorno do projeto.\n",
    "\n",
    "3. Um analista de projetos está avaliando a viabilidade econômico-financera de um projeto e se depara com os seguintes dados: o investimento inicial será de 1.000.000,00 e a vida útil do projeto é de 3 anos. O custo de oportunidade do capital aplicado é de 10% ao ano. A soma dos fluxos de caixa positivos nominais ao longo dos 3 anos é de 1.450.000,00. Esses fluxos podem ocorrer de duas maneiras, dependendo de algumas decisões técnicas do projeto:  \n",
    "R.: o VPL, o payback nominal e a TIR apresentarão resultados melhores para a empresa, quando analisado o fluxo 1 em comparação com o fluxo 2.\n",
    "\n",
    "4. Uma empresa está avaliando a compra de uma nova máquina por 320.000,00 à vista. Estima-se que a vida útil da máquina seja de 3 anos, que o valor residual de revenda no final do terceiro ano seja de 50.578,00 e que os fluxos líquidos de caixa gerados por esta máquina ao final de cada ano sejam de 99.000,00, 150.040,00 e 99.825,00, respectivamente. Sabendo que a taxa mínima de atratividade é de 10% a.a., a compra da nova máquina  \n",
    "R.: apresenta valor presente líquido positivo.\n",
    "\n",
    "5. A área financeira de uma grande companhia recebeu do departamento técnico-operacional um novo projeto de investimento, com as seguintes características  \n",
    "R.: 2 anos / 6 Meses / 0 Dias\n",
    "\n",
    "6. Assinale a alternativa que relaciona os quatro principais componentes do capital de giro.  \n",
    "R.: Caixa, valores mobiliários negociáveis, estoques e contas a receber. \n",
    "\n",
    "7. A política de estrutura de capital envolve um trade-off entre o risco e o retorno. A estrutura de capital ótima de uma empresa deve atingir um equilíbrio entre o risco e o retorno, de modo a maximizar o preço da ação da empresa. São cinco os principais fatores que influenciam as decisões de estrutura de capital, a saber:  \n",
    "R.: risco do negócio, posição tributária da empresa, flexibilidade financeira, agressividade ou conservadorismo administrativo e oportunidades de crescimento.\n",
    "\n",
    "8.  Calcule o número de meses necessários para fazer um capital dobrar de valor, com a taxa de juros de 6% ao ano, no regime de juros compostos.  \n",
    "R.: 144\n",
    "\n",
    "9. Na elaboração de projetos, a estratégia pode ser formulada a partir de um processo que consiste em analisar o ambiente interno de uma organização e confrontar este com o ambiente externo, tal processo intitula-se  \n",
    "R.: Análise SWOT"
   ]
  },
  {
   "cell_type": "markdown",
   "metadata": {},
   "source": [
    "# Módulo 2\n",
    "\n",
    "1. A curva de transformação de uma economia mostra que, se os fatores de produção forem fixos e não houver inovações tecnológicas...  \n",
    "R.: o custo de oportunidade é crescente.  \n",
    "\n",
    "2. O crescimento econômico de um país, no sentido do aumento do PIB real per capita, normalmente reduz a pobreza (aumentando a renda média dos pobres). Mas, muitas vezes, piora a distribuição de renda, pois a renda média dos pobres aumenta menos que a renda média total. No entanto, segundo estudiosos do assunto, em alguns países asiáticos de alto crescimento não aconteceu esta piora na distribuição de renda porque:  \n",
    "R.: o crescimento não foi heterogêneo, não foi centrado em alguns setores enquanto outros estagnavam, criando problemas estruturais  \n",
    "\n",
    "3. Uma justiicativa para a intervenção do Setor Público em uma economia capitalista, é a existência de falhas do sistema de mercado. Sobre os bens públicos, assinale a alternativa correta.  \n",
    "R.: Os custos de produção dos bens públicos são suportados por toda sociedade compulsoriamente  \n",
    "\n",
    "4. Sobre o problema econômico fundamental, envolvendo “escassez e escolha”, assinale a alternativa INCORRETA  \n",
    "R.: A procura potencial por bens e serviços pelos indivíduos, para satisfação dos seus desejos, é finita  \n",
    "\n",
    "5. Em uma economia de mercado podem ocorrer falhas na apropriação da renda e da riqueza criadas pelo sistema econômico, gerando concentração, o que justiicaria a interferência do governo. Considerando o papel assumido pelo Setor Público, em uma economia capitalista, é correto airmar que essa interferência refere-se à função:  \n",
    "R.: distributiva\n",
    "\n",
    "6. Em economias capitalistas predomina o sistema de Economia de Mercado, também chamado de livre mercado. Assinale a alternativa que não corresponde a uma característica do livre mercado.  \n",
    "R.: Planejamento da produção centralizado\n",
    "\n",
    "7. Os produtos X e Y são produzidos em determinado país empregando-se apenas a mão-de-obra local. Eum dia, cada trabalhador é capaz de produzir três unidades do bem X ou, alternativamente, cinco unidades do bem Y. Nesse caso, pode-se afirmar que:  \n",
    "R.: O custo de oportunidade de se produzir uma unidade do bem Y é de 1/5 unidades do bem X.\n",
    "\n",
    "8. No que se refere aos conceitos básicos estudados em economia, assinale a opção correta.  \n",
    "R.: A economia positiva pretende entender o funcionamento econômico, enquanto a economia normativa trata de como o mundo deve ser."
   ]
  },
  {
   "cell_type": "markdown",
   "metadata": {},
   "source": [
    "# Módulo 3\n",
    "\n",
    "1. Os gastos sociais do governo brasileiro, como percentual do PIB, têm sido elevados, embora muitos considerem os resultados, em termos de melhora da distribuição de renda, insatisfatórios. Várias causas podem ser citadas para explicar tal fato, dentre as quais NÃO se encontra a(o)  \n",
    "R.: tributação excessiva sobre os bens de consumo de luxo.\n",
    "\n",
    "2. Avalie as proposições abaixo a respeito da Teoria Macroeconômica.  \n",
    "R.: III e IV  \n",
    "\n",
    "3. O conceito de \"mão invisível\" remete ao pensador:  \n",
    "R.: Adam Smith\n",
    "\n",
    "4. No contexto de crise dos anos 1930, ganhou destaque a proposição de que caberia ao Estado estabelecer os métodos de gestãopara alcançar o pleno emprego,sem, todavia, colocar em risco o módulo de produção capitalista. Essa elaboração passou a questionar o pensamento econômico liberal clássico que apostava na tendência de equilíbrio natural entre oferta e demanda por mão-de-obra. Tal proposição de que caberia, naquele contexto, ao Estado a função de interventor econômico e social deveu-se a:  \n",
    "R.: Keynes\n",
    "\n",
    "5. Sobre o Liberalismo que tinha como base a propriedade privada, o individualismo econômico, a liberdade de comércio e de contrato de trabalho sem controle do Estado ou pressão dos sindicatos, é correto afirmar:  \n",
    "R.: Thomas Malthus entendia que a pobreza e o sofrimento eram inerentes à sociedade humana e as guerras e as epidemias ajudariam muito no equilíbrio entre a produção e a população. \n",
    "\n",
    "6. A crise financeira internacional, fortemente vivenciada pelos Estados Unidos em 2008 em seu mercado de hipotecas, provocou o renascimento do interesse pela teoria econômica desenvolvida pelo economista:  \n",
    "R.: John Maynard Keynes  \n",
    "\n",
    "7. De acordo com o modelo Keynesiano:\n",
    "R.: A demanda por moeda para transações é função do nível de atividade. \n",
    "\n",
    "8. A oferta cria sua própria procura\". Essa afirmação caracteriza o pensamento econômico de:  \n",
    "R.: Jean-Baptiste Say\n",
    "\n",
    "9. O pensamento econômico foi construído com a contribuição de muitos autores,que tiveram seus nomes associados às teorias que defenderam e a determinadas formas de relação entre Estado e atividade econômica. A seguir, são citados cinco autores, as questões às quais seus nomes são associados e ao papel que atribuiam ao Estado. Apenas uma série é correta.  \n",
    "R.: Schumpeter, destruição criativa, não-intervencionismo.\n",
    "\n",
    "10. Como qualquer ciência, a economia preocupa-se com com a explicação de fenômenos observados, para isso utiliza teorias e os chamados modelos econômicos.De acordo com a teoria econômica, é correto afirmar que:  \n",
    "R.: A análise econômica positiva consiste em proposições que descrevem relações de causa e efeito, enquanto que a análise normativa examina as questões relativas ao que se supõe adequado.  \n"
   ]
  },
  {
   "cell_type": "markdown",
   "metadata": {},
   "source": [
    "# Módulo 4\n",
    "\n",
    "1. Com relação à lei da demanda e da oferta, assim como aos deslocamentos das curvas de demanda e de oferta, assinale a alternativa correta.  \n",
    "R.: Ocorrendo uma redução da demanda e mantendo-se inalterada a oferta, ocorrerá uma redução nas quantidades transacionadas, e os preços, também, reduzirão\n",
    "\n",
    "2. Suponha que um grande produtor de leite seja capaz de aumentar o preço do leite no mercado, via retenção dele na fábrica. Neste caso...  \n",
    "R.: o mercado de leite é imperfeitamente competitivo\n",
    "\n",
    "3. Em qual das alternativas abaixo está ilustrada a Lei da Demanda?  \n",
    "R.: Quando a quantidade demandada de um determinado bem varia inversamente com seu preço, permanecendo constantes a renda disponível do consumidor e o preço dos demais bens\n",
    "\n",
    "4. Segundo a lei da demanda, como se caracteriza o comportamento entre a variação da quantidade demandada de um determinado bem em relação ao seu preço, a renda disponível do consumidor e o preço dos demais bens?  \n",
    "R.: A quantidade demandada de um determinado bem varia inversamente com seu preço, permanecendo constantes a renda disponível do consumidor e o preço dos demais bens\n",
    "\n",
    "5. A demanda de um bem normal num mercado de concorrência perfeita é função decrescente:  \n",
    "R.: do preço do bem complementar\n",
    "\n",
    "6. Os bens A e B são substitutos no consumo. Nesse caso, no que diz respeito a preços e quantidades de equilíbrio no mercado dos dois bens, pode-se afirmar que:  \n",
    "R.: Um aumento no custo de produção do bem B deve levar a uma redução no consumo desse bem e um aumento no preço de equilíbrio do bem A.\n",
    "\n",
    "7. Um bem normal ou superior é aquele cujo efeito renda é:\n",
    "R.: positivo\n",
    "\n",
    "8. Pode-se dizer que o efeito substituição entre bens normais corresponde ao fato de o consumidor:  \n",
    "R.: aumentar a quantidade adquirida do bem cujo preço decresce em relação ao preço de outro bem"
   ]
  },
  {
   "cell_type": "code",
   "execution_count": null,
   "metadata": {
    "collapsed": true
   },
   "outputs": [],
   "source": []
  }
 ],
 "metadata": {
  "kernelspec": {
   "display_name": "Python 3",
   "language": "python",
   "name": "python3"
  },
  "language_info": {
   "codemirror_mode": {
    "name": "ipython",
    "version": 3
   },
   "file_extension": ".py",
   "mimetype": "text/x-python",
   "name": "python",
   "nbconvert_exporter": "python",
   "pygments_lexer": "ipython3",
   "version": "3.6.0"
  }
 },
 "nbformat": 4,
 "nbformat_minor": 2
}
