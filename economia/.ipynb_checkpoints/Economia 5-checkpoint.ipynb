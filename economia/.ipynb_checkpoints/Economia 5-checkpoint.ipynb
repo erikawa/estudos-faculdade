{
 "cells": [
  {
   "cell_type": "markdown",
   "metadata": {},
   "source": [
    "# Introdução a Macroeconomia (Módulo 5)\n",
    "\n",
    "## Conceitos da macroeconomia\n",
    "\n",
    "* A macro economia foca a economia como um todo, considerando variáveis globais. Visa a compreensão de grandes agregados como renda, produto nacional, inflação e câmbio;\n",
    "* Abre mão de fatores específicos, em prol da compreensão macro;\n",
    "* Não há conflito entre Micro e Macroeconomia, a principal diferença é o aspecto de ênfase e de enfoque;\n",
    "\n",
    "## Objetivo da Política Macroeconômica\n",
    "\n",
    "* Alto nível de emprego;\n",
    "* Estabilidade de preços;\n",
    "* Distribuição de renda socialmente justa;\n",
    "* Crescimento econômico;\n",
    "\n",
    "## Instrumentos de Política macroeconômica: Noções\n",
    "\n",
    "Os instrumentos utilizados para atingir esses objetivos são:\n",
    "* Política Fiscal: Envolve os instrumentos de que o governo dispõe para arrecadar tributos e controlar suas despesas;\n",
    "* Política monetária: Diz respeito a atuação do governo sobre a quantidade de moeda e títulos públicos em circulação;\n",
    "* Política cambial: intervensão direta do governo sobre a taxa de câmbio (taxa fixa e flutuante de câmbio);\n",
    "* Política comercial: Incentivos às exposições e estímulo ou desestímulo as importações (por meio de tarifas e barreiras quantitativas sobre importações);\n",
    "* Poítica de rendas: Refere-se à atuação direta do governo na formação de renda (salários, aluguéis);\n",
    "\n",
    "## Introdução a contabilidade Social\n",
    "\n",
    "* Produto Nacional: Valor de todos os bens e serviços, medidos a preços de mercado, produzidos num dado período de tempo;\n",
    "* Despesa Nacional: Gasto dos agentes econômicos com o produto nacional;\n",
    "* Renda Nacional: Soma dos rendimentos pagos aos fatores de produção num dado período;\n",
    "* Valor agregado: valor que se adiciona ao produto em cada estágio de produção, ou é a renda adicionada por setor produtivo. Somando o valor adicionado em cada estágio da produção chegaremos ao produto final da economia;\n",
    "* Poupança agregada: Parcela da renda nacional que não é consumida no período;\n",
    "* Investimento agregado: Gasto com bens que foram produzidos no período mas não foram consumidos e que aumentam a capacidade produtiva da economia nos períodos seguintes;\n",
    "* Depreciação: Desgaste do equipamento de capital da economia utilizado num certo período;\n",
    "* Produto Nacional bruto é a somatória de todos os bens e serviços produzidos dentro do território nacional em um dado período;\n",
    "\n",
    "## Questões\n",
    "\n",
    "1. O elemento que expressa a diferença entre o Produto Interno Bruto e o Produto Nacional Bruto é denominado:  \n",
    "R.: Renda líquida enviada ao exterior\n",
    "\n",
    "2. Para atender aos objetivos de políticas econômicas, cabe ao governo o desenho e o controle de políticas econômicas que redirecionem ou corrijam efeitos negativos na economia de seu país ou região.  \n",
    "R.: \n",
    "II. Entre as políticas de estabilização, podem ser caracterizadas as que visam atender objetivos de curto prazo, como o controle do nível de preços.  \n",
    "III. O governo dispõe de um conjunto de instrumentos com o objetivo de permitir uma adequada definição e boa implementação das políticas econômicas;  \n",
    "\n",
    "3. Há um extensivo leque de políticas econômicas que procuram estimular o crescimento da capacidade produtiva da economia, ou seja, o aumento da quantidade de bens e serviços ofertados.\n",
    "A respeito deste assunto, podemos considerar:  \n",
    "R.: \n",
    "I. O crescimento econômico refere-se ao aumento da quantidade dos bens e serviços disponíveis na economia, seja para consumo quanto para investimento pelos diferentes agentes econômicos;  \n",
    "III. O controle da inflação é, inegavelmente, a principal preocupação de quem procura a estabilidade da economia;\n",
    "\n",
    "4. A Contabilidade Social procura medir os grandes agegados econômicos em determinado período.  \n",
    "R.: A Despesa Nacional relaciona-se com os gastos dos agentes econômicos em certo período;"
   ]
  },
  {
   "cell_type": "markdown",
   "metadata": {},
   "source": [
    "# Introdução a Contabilidade (Módulo 6)\n",
    "\n",
    "## Definições utilizada\n",
    "\n",
    "* **Patrimônio**: Conjunto de bens pertencente a uma pessoa ou a uma empresa;\n",
    "* **Regime de competência**: Período de tempo considerado para o registro e fechamento dos fatos e eventos contábeis (Anualmente);\n",
    "* **Balanço Patrimonial**: As contas devem ser agrupadas de modo a facilitar o conhecimento e a análise da situação financeira da empresa;\n",
    "* **Demonstração dos Resultados do Exercício (D.R.E)**:Demonstração contábil que deve resumir o resultado em relação ao conjunto de operações realizadas em um período;\n",
    "* **Ativo**: Todos os bens e direitos em noma da pessoa física ou jurídica;\n",
    "* **Bens**: Tudo aquilo que é tangível, tem corpo ou matéria e é possível tocar;\n",
    "* **Direitos**: Tudo e qualquer bem de posse de terceiros;\n",
    "* **Passivo**: Obrigações de curto e longo prazo; \n",
    "* **Patrimônio Líquido**: Representa os valores que os sócios têm na empresa (ativo - passivo) é representado por:  \n",
    "**Capital Social**: Valores que os sócios investiram na empresa;  \n",
    "**Lucros Acumulados**: Lucros que foram reinvestidos pelos sócios na empresa;  \n",
    "* **Ativo Permanente**: Investimentos, imobilizado e diferido da pessoa, física ou jurídica;\n",
    "* **Capital de Giro**: contas a receber, estoques e valores a receber. Conjunto de valores necessários para a empresa fazer seus negócios acontecerem (girar);\n",
    "* **Exigível à Curto Prazo**: obrigações que devem ser liquidadas em período não superior a um ano;\n",
    "* **Não Exigível**: capital, lucro e reservas;\n",
    "* **Demonstrativos Contábeis**: relatórios exigidos por lei que detalham a realidade financeira e patrimonial da empresa. São 4 especificados:  \n",
    "**Balanço Patrimonial**  \n",
    "**D.R.E.**  \n",
    "**Demonstração de Lucros e Prejuízos**  \n",
    "**Demonstrações das Origens e Aplicações de Recursos**\n",
    "\n",
    "\n"
   ]
  },
  {
   "cell_type": "markdown",
   "metadata": {},
   "source": [
    "# Análise Financeira de Balanços (Módulo 7)\n",
    "\n",
    "Os índices de liquidez possuem, como fundamental preocupaçao, revelar como está a situação da empresa.\n",
    "\n",
    "Conceitos ligados a contabilidade:\n",
    "* **Ativo Cirulante**: Dinheiro em caixa ou em bancos, valores a receber no prazo máximo de 1 ano;\n",
    "* **Passivo Circulante**: Obrigações ou exigibilidades que deverão ser pagas;\n",
    "* **Exigível a Longo Prazo**: Exigibilidade com vencimento após o encerramento do exercívio subsequente;\n",
    "* **Disponível**: Composto pela disponibilidades imediatas, bancos conta movimento, cheques para cobrança e aplicações no mercado aberto;\n",
    "\n",
    "* **Liquidez Geral**: Este índice tem a finalidade de refletir a capacidade de pagamento de dívidas da empresa a longo prazo, se o índice > 1 significa que tem recursos, caso contrário não tem recursos;\n",
    "\n",
    "* **Liquidez Corrente**: Este índice reflete a capacidade de pagamento de dívidas da empresa no curto prazo;\n",
    "\n",
    "\n",
    "\n",
    "\n"
   ]
  },
  {
   "cell_type": "code",
   "execution_count": null,
   "metadata": {
    "collapsed": true
   },
   "outputs": [],
   "source": []
  }
 ],
 "metadata": {
  "kernelspec": {
   "display_name": "Python 3",
   "language": "python",
   "name": "python3"
  },
  "language_info": {
   "codemirror_mode": {
    "name": "ipython",
    "version": 3
   },
   "file_extension": ".py",
   "mimetype": "text/x-python",
   "name": "python",
   "nbconvert_exporter": "python",
   "pygments_lexer": "ipython3",
   "version": "3.6.0"
  }
 },
 "nbformat": 4,
 "nbformat_minor": 2
}
